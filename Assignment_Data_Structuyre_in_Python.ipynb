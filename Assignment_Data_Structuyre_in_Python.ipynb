{
 "cells": [
  {
   "cell_type": "markdown",
   "id": "2e84a630-436a-46c7-967c-cdde80aa7e43",
   "metadata": {},
   "source": [
    "# Q1)Write a code to reverse a string."
   ]
  },
  {
   "cell_type": "code",
   "execution_count": 4,
   "id": "085f47a8-9385-4d89-9612-133ab511082f",
   "metadata": {},
   "outputs": [
    {
     "name": "stdin",
     "output_type": "stream",
     "text": [
      "Enter a String: Biswajit Adak\n"
     ]
    },
    {
     "name": "stdout",
     "output_type": "stream",
     "text": [
      "The Reverse String is:  kadA tijawsiB\n"
     ]
    }
   ],
   "source": [
    "str1 = input(\"Enter a String:\")\n",
    "print(\"The Reverse String is: \",str1[::-1])"
   ]
  },
  {
   "cell_type": "markdown",
   "id": "581d2da3-d5b6-46ab-8f2b-c864c94f8a34",
   "metadata": {},
   "source": [
    "# Q2) Write a code to count the number of vowels in a string"
   ]
  },
  {
   "cell_type": "code",
   "execution_count": 15,
   "id": "fe5eb301-5523-4527-bb4a-8f3fd62afcce",
   "metadata": {},
   "outputs": [
    {
     "name": "stdin",
     "output_type": "stream",
     "text": [
      "Enter a String:  Biswajit\n"
     ]
    },
    {
     "name": "stdout",
     "output_type": "stream",
     "text": [
      "The number of vowel in the 'Biswajit' String is = 3\n"
     ]
    }
   ],
   "source": [
    "Str1 = input(\"Enter a String: \")\n",
    "\n",
    "count = 0\n",
    "\n",
    "for i in Str1:\n",
    "    if(i == 'a' or i == 'e' or i == 'i' or i == 'o' or i == 'u' or i == 'A' or i == 'E' or i == 'I' or i == 'O' or i == 'U'):\n",
    "        count += 1\n",
    "\n",
    "print(f\"The number of vowel in the '{Str1}' String is = {count}\")"
   ]
  },
  {
   "cell_type": "markdown",
   "id": "c31d387e-9ded-48f3-9814-d1a71a404e56",
   "metadata": {},
   "source": [
    "# Q3)Write a code to check if a given string is a palindrome or not."
   ]
  },
  {
   "cell_type": "code",
   "execution_count": 22,
   "id": "4d952873-1898-43ab-8d37-3d74cbf65fb0",
   "metadata": {},
   "outputs": [
    {
     "name": "stdin",
     "output_type": "stream",
     "text": [
      "Enter a String:  Mom\n"
     ]
    },
    {
     "name": "stdout",
     "output_type": "stream",
     "text": [
      "'Mom' is a Plaindrome String\n"
     ]
    }
   ],
   "source": [
    "str1 = input(\"Enter a String: \")\n",
    "\n",
    "# covert String into Small letters\n",
    "str_lower = str1.lower()\n",
    "\n",
    "if(str_lower == str_lower[::-1]):\n",
    "    print(f\"'{str1}' is a Plaindrome String\")\n",
    "else:\n",
    "    print(f\"'{str1}' is not a Plaindrome String\")"
   ]
  },
  {
   "cell_type": "markdown",
   "id": "98d4103e-ec5c-4d04-bd2b-d5ffa64592a6",
   "metadata": {},
   "source": [
    "# Q4)  Write a code to check if two given strings are anagrams of each other"
   ]
  },
  {
   "cell_type": "code",
   "execution_count": 29,
   "id": "74272107-7924-4618-97dc-b59888319677",
   "metadata": {},
   "outputs": [
    {
     "name": "stdin",
     "output_type": "stream",
     "text": [
      "Enter First String: Thing\n",
      "Enter Second String: Night\n"
     ]
    },
    {
     "name": "stdout",
     "output_type": "stream",
     "text": [
      "Two Strings are 'Anagrams'\n"
     ]
    }
   ],
   "source": [
    "Word1 = input(\"Enter First String:\")\n",
    "Word2 = input(\"Enter Second String:\")\n",
    "\n",
    "small_Word1 = Word1.lower()\n",
    "small_Word2 = Word2.lower()\n",
    "\n",
    "if(sorted(small_Word1) == sorted(small_Word2)):\n",
    "    print(\"Two Strings are 'Anagrams'\")\n",
    "else:\n",
    "    print(\"Two Strings are not a 'Anagrams'\")"
   ]
  },
  {
   "cell_type": "markdown",
   "id": "6b624420-1ad0-4d4a-a312-3e17c49f0d31",
   "metadata": {},
   "source": [
    "# Q5) Write a code to find all occurrences of a given substring within another string."
   ]
  },
  {
   "cell_type": "code",
   "execution_count": 38,
   "id": "6d525472-f0e8-4e58-a49e-8e98998f18da",
   "metadata": {},
   "outputs": [
    {
     "name": "stdin",
     "output_type": "stream",
     "text": [
      "Enetr a String: test test test\n",
      "Enetr a SubString: test\n"
     ]
    },
    {
     "name": "stdout",
     "output_type": "stream",
     "text": [
      "The Orginal String is:  test test test\n",
      "The Sub String is:  test\n",
      "The Start indecies of Substring  are:  [0, 5, 10]\n"
     ]
    }
   ],
   "source": [
    "test_str = input(\"Enetr a String:\")\n",
    "sub_str = input(\"Enetr a SubString:\")\n",
    "\n",
    "print(\"The Orginal String is: \",test_str)\n",
    "print(\"The Sub String is: \",sub_str)\n",
    "\n",
    "if sub_str in test_str:\n",
    "    res = [i for i in range(len(test_str)) if test_str.startswith(sub_str,i)]\n",
    "    print(\"The Start indecies of Substring  are: \",res)\n",
    "else:\n",
    "    print(\"The Sub String is not occurrences in main String\")"
   ]
  },
  {
   "cell_type": "markdown",
   "id": "5e547cf6-b9ac-461c-a27c-04a8ed20a7db",
   "metadata": {},
   "source": [
    "# Q6) write a code to perform basic string compression using the counts of repeated characters in python."
   ]
  },
  {
   "cell_type": "code",
   "execution_count": 45,
   "id": "03cf7c3e-e3dc-4f25-a371-03551672df0a",
   "metadata": {},
   "outputs": [
    {
     "name": "stdin",
     "output_type": "stream",
     "text": [
      "Enter String: abbbaaaaaaccdaaab\n"
     ]
    },
    {
     "name": "stdout",
     "output_type": "stream",
     "text": [
      "The Compression String is =  a1b3a6c2d1a3b1\n"
     ]
    }
   ],
   "source": [
    "word = input(\"Enter String:\")\n",
    "\n",
    "ch = word[0]\n",
    "res = \"\"\n",
    "count = 0\n",
    "word += \" \"\n",
    "\n",
    "for i in word:\n",
    "    if (i == ch):\n",
    "        count += 1\n",
    "    else:\n",
    "        res = res + str(ch) + str(count)\n",
    "        ch = i\n",
    "        count = 1\n",
    "print(\"The Compression String is = \",res)"
   ]
  },
  {
   "cell_type": "markdown",
   "id": "52f607c0-ad55-4fe7-b55f-f630f695da91",
   "metadata": {},
   "source": [
    "# Q7)  Write a code to determine if a string has all unique characters."
   ]
  },
  {
   "cell_type": "code",
   "execution_count": 50,
   "id": "bdba3927-de7c-4bf6-bb9b-db321c647fac",
   "metadata": {},
   "outputs": [
    {
     "name": "stdin",
     "output_type": "stream",
     "text": [
      "Enter a String: abcdab\n"
     ]
    },
    {
     "name": "stdout",
     "output_type": "stream",
     "text": [
      "'abcdab' string has not uniue character\n"
     ]
    }
   ],
   "source": [
    "word = input(\"Enter a String:\")\n",
    "\n",
    "unique_characters = []\n",
    "\n",
    "for character in word:\n",
    "    if character in unique_characters:\n",
    "        flag = False\n",
    "    else:\n",
    "        unique_characters.append(character)\n",
    "        flag = True\n",
    "\n",
    "if(flag == True):\n",
    "    print(f\"'{word}' String has all unique characters\")\n",
    "else:\n",
    "    print(f\"'{word}' string has not uniue character\")"
   ]
  },
  {
   "cell_type": "markdown",
   "id": "69d669b2-9e98-4aa1-979d-28a139fa9ce9",
   "metadata": {},
   "source": [
    "# Q8) Write a code to convert a given string to uppercase or lowercase."
   ]
  },
  {
   "cell_type": "code",
   "execution_count": 59,
   "id": "b568981c-763d-4d7a-8376-278dba8cbed2",
   "metadata": {},
   "outputs": [
    {
     "name": "stdin",
     "output_type": "stream",
     "text": [
      "Enetr the String:  GHVKJGH\n",
      "1.Upper Case\n",
      "2.Lower case\n",
      "Enter Your Choise:  2\n"
     ]
    },
    {
     "name": "stdout",
     "output_type": "stream",
     "text": [
      "'GHVKJGH' Lower case String is:- 'ghvkjgh'\n"
     ]
    }
   ],
   "source": [
    "word = input(\"Enetr the String: \")\n",
    "\n",
    "choise = int(input(\"1.Upper Case\\n2.Lower case\\nEnter Your Choise: \"))\n",
    "\n",
    "match choise:\n",
    "    case 1:\n",
    "        print(f\"'{word}' Upper case String is:- '{word.upper()}'\")\n",
    "    case 2:\n",
    "        print(f\"'{word}' Lower case String is:- '{word.lower()}'\")\n",
    "    case __:\n",
    "        print(\"Invalid choise!!\")"
   ]
  },
  {
   "cell_type": "markdown",
   "id": "b6401a3f-02c7-4ff9-bff2-07142c7ea459",
   "metadata": {},
   "source": [
    "# Q9) Write a code to count the number of words in a string."
   ]
  },
  {
   "cell_type": "code",
   "execution_count": 62,
   "id": "6d22f476-df9b-4a5c-b8a0-9ecd8fa47133",
   "metadata": {},
   "outputs": [
    {
     "name": "stdin",
     "output_type": "stream",
     "text": [
      "Enter string:  My name is Biswajit Adak\n"
     ]
    },
    {
     "name": "stdout",
     "output_type": "stream",
     "text": [
      "The No. of Word in the 'My name is Biswajit Adak' string is = 5\n"
     ]
    }
   ],
   "source": [
    "sentence = input(\"Enter string: \")\n",
    "\n",
    "str_remv_space = sentence.strip()\n",
    "count = 0\n",
    "\n",
    "for i in str_remv_space:\n",
    "    if(i == \" \"):\n",
    "        count += 1\n",
    "\n",
    "print(f\"The No. of Word in the '{sentence}' string is = {count + 1}\")"
   ]
  },
  {
   "cell_type": "markdown",
   "id": "e7ab29d2-4cba-45a5-ae87-eff8783ec588",
   "metadata": {},
   "source": [
    "# Q10) Write a code to concatenate two strings without using the + operator."
   ]
  },
  {
   "cell_type": "code",
   "execution_count": 71,
   "id": "e0e0d93f-64ef-4dd1-a1e6-1c6aa8091d8a",
   "metadata": {},
   "outputs": [
    {
     "name": "stdin",
     "output_type": "stream",
     "text": [
      "Enter the First String:  Biswajit\n",
      "Enter the Second String:  Adak\n"
     ]
    },
    {
     "name": "stdout",
     "output_type": "stream",
     "text": [
      "The Concatenate String with out '+' Operator is:-  Biswajit Adak\n"
     ]
    }
   ],
   "source": [
    "str1 = input(\"Enter the First String: \")\n",
    "str2 = input(\"Enter the Second String: \")\n",
    "\n",
    "res = \" \".join([str1,str2])\n",
    "print(\"The Concatenate String with out '+' Operator is:- \",res)"
   ]
  },
  {
   "cell_type": "markdown",
   "id": "3da808b2-cae4-4975-bf25-559fad2d8a09",
   "metadata": {},
   "source": [
    "# Q11) Write a code to remove all occurrences of a specific element from a list."
   ]
  },
  {
   "cell_type": "code",
   "execution_count": 76,
   "id": "f93d7b04-54f1-4bfe-b367-f1870f260093",
   "metadata": {},
   "outputs": [
    {
     "name": "stdin",
     "output_type": "stream",
     "text": [
      "Enter the Size of the list:  10\n"
     ]
    },
    {
     "name": "stdout",
     "output_type": "stream",
     "text": [
      "Wearning!!! You only add integer valoue in the list\n",
      "\n",
      " Enter the data in the list: \n"
     ]
    },
    {
     "name": "stdin",
     "output_type": "stream",
     "text": [
      " 10\n",
      " 20\n",
      " 10\n",
      " 20\n",
      " 20\n",
      " 10\n",
      " 30\n",
      " 40\n",
      " 10\n",
      " 20\n"
     ]
    },
    {
     "name": "stdout",
     "output_type": "stream",
     "text": [
      "Your Final List is:  [10, 20, 10, 20, 20, 10, 30, 40, 10, 20]\n"
     ]
    },
    {
     "name": "stdin",
     "output_type": "stream",
     "text": [
      "\n",
      "Enter the element which you remove in the list:  10\n"
     ]
    },
    {
     "name": "stdout",
     "output_type": "stream",
     "text": [
      "After remove '10' all occurrences element in the list.The final List is = [20, 20, 20, 30, 40, 20]\n"
     ]
    }
   ],
   "source": [
    "n = int(input(\"Enter the Size of the list: \"))\n",
    "\n",
    "list = []\n",
    "\n",
    "print(\"Wearning!!! You only add integer valoue in the list\")\n",
    "print(\"\\n Enter the data in the list: \")\n",
    "for i in range(n):\n",
    "    num = int(input())\n",
    "    list.append(num)\n",
    "print(\"Your Final List is: \",list)\n",
    "\n",
    "remv_ele = int(input(\"\\nEnter the element which you remove in the list: \"))\n",
    "\n",
    "if remv_ele in list:\n",
    "    while remv_ele in list:\n",
    "        list.remove(remv_ele)\n",
    "    print(f\"After remove '{remv_ele}' all occurrences element in the list.The final List is = {list}\")\n",
    "else:\n",
    "    print(f\"'{remv_ele}' not present in the list\")"
   ]
  },
  {
   "cell_type": "markdown",
   "id": "bda0b3d0-d2e8-4178-b080-dae5d33a5cd8",
   "metadata": {},
   "source": [
    "# Q12) Implement a code to find the second largest number in a given list of integers."
   ]
  },
  {
   "cell_type": "code",
   "execution_count": 83,
   "id": "c4b53104-b03d-4257-a017-31a9f84050c8",
   "metadata": {},
   "outputs": [
    {
     "name": "stdin",
     "output_type": "stream",
     "text": [
      "Enter the Size of the list:  5\n"
     ]
    },
    {
     "name": "stdout",
     "output_type": "stream",
     "text": [
      "Enter the data in the list: \n"
     ]
    },
    {
     "name": "stdin",
     "output_type": "stream",
     "text": [
      " -1\n",
      " -2\n",
      " 0\n",
      " -4\n",
      " -5\n"
     ]
    },
    {
     "name": "stdout",
     "output_type": "stream",
     "text": [
      "Your Final list is:  [-1, -2, 0, -4, -5]\n",
      "The Second largest element is =  -1\n"
     ]
    }
   ],
   "source": [
    "size = int(input(\"Enter the Size of the list: \"))\n",
    "\n",
    "list = []\n",
    "\n",
    "print(\"Enter the data in the list: \")\n",
    "for i in range(size):\n",
    "    num = int(input())\n",
    "    list.append(num)\n",
    "\n",
    "print(\"Your Final list is: \",list)\n",
    "\n",
    "f_max = list[0]\n",
    "\n",
    "for i in range(1,len(list)):\n",
    "    if (f_max < list[i]):\n",
    "        s_max = f_max\n",
    "        f_max = list[i]\n",
    "\n",
    "print(\"The Second largest element is = \",s_max)"
   ]
  },
  {
   "cell_type": "markdown",
   "id": "3f3bb52a-0baa-4169-ad2a-0d2dafdbfebe",
   "metadata": {},
   "source": [
    "# Q13) Create a code to count the occurrences of each element in a list and return a dictionary with elements as keys and their counts as values."
   ]
  },
  {
   "cell_type": "code",
   "execution_count": 91,
   "id": "2613de7a-f409-42d9-8bc3-dc300a9f5ce4",
   "metadata": {},
   "outputs": [
    {
     "name": "stdin",
     "output_type": "stream",
     "text": [
      "Enter the Size of the list:  10\n"
     ]
    },
    {
     "name": "stdout",
     "output_type": "stream",
     "text": [
      "Enter the data in the list: \n"
     ]
    },
    {
     "name": "stdin",
     "output_type": "stream",
     "text": [
      " 10\n",
      " 20\n",
      " Biswajit\n",
      " 10\n",
      " Biswajit\n",
      " 20\n",
      " 10\n",
      " Dip\n",
      " Aksh\n",
      " Dip\n"
     ]
    },
    {
     "name": "stdout",
     "output_type": "stream",
     "text": [
      "\n",
      "Our Final list is:  ['10', '20', 'Biswajit', '10', 'Biswajit', '20', '10', 'Dip', 'Aksh', 'Dip']\n",
      "So Our Dictionary is:  {'10': 3, '20': 2, 'Biswajit': 2, 'Dip': 2, 'Aksh': 1}\n"
     ]
    }
   ],
   "source": [
    "size = int(input(\"Enter the Size of the list: \"))\n",
    "\n",
    "number = []\n",
    "\n",
    "print(\"Enter the data in the list: \")\n",
    "for i in range(size):\n",
    "    num = input()\n",
    "    number.append(num)\n",
    "print(\"\\nOur Final list is: \",number)\n",
    "\n",
    "dic = {} # Create a empty dictionary\n",
    "\n",
    "for i in number:\n",
    "    dic[i] = number.count(i)\n",
    "\n",
    "print(\"So Our Dictionary is: \",dic)"
   ]
  },
  {
   "cell_type": "markdown",
   "id": "c7f081e3-e07f-418a-b63e-2fff1b36dd7b",
   "metadata": {},
   "source": [
    "# Q14) Write a code to reverse a list in-place without using any built-in reverse functions."
   ]
  },
  {
   "cell_type": "code",
   "execution_count": null,
   "id": "07b44fa4-fbb9-4dfb-9eed-f315f68febd5",
   "metadata": {},
   "outputs": [],
   "source": [
    "size = int(input(\"Enter the Size of the list: \"))\n",
    "\n",
    "lis = []\n",
    "\n",
    "# Create a list\n",
    "print(\"Enter the data in the list: \")\n",
    "for i in range(size):\n",
    "    value = input()\n",
    "    lis.append(value)\n",
    "\n",
    "print(\"\\nOur Final list is:- \",lis)\n",
    "\n",
    "# Reverse a list\n",
    "start = 0\n",
    "end = len(lis) - 1\n",
    "\n",
    "while start < end:\n",
    "    lis[start],lis[end] = lis[end],lis[start]"
   ]
  },
  {
   "cell_type": "markdown",
   "id": "1bd03630-f29b-4697-820e-e8c3fc1144a0",
   "metadata": {},
   "source": [
    "# Q15) Implement a code to find and remove duplicates from a list while preserving the original order of elements."
   ]
  },
  {
   "cell_type": "code",
   "execution_count": 8,
   "id": "715db97a-72a0-470d-90cb-9db9f9427740",
   "metadata": {},
   "outputs": [
    {
     "name": "stdin",
     "output_type": "stream",
     "text": [
      "Enter the size of the list:  5\n"
     ]
    },
    {
     "name": "stdout",
     "output_type": "stream",
     "text": [
      "Enter the data in the list: \n"
     ]
    },
    {
     "name": "stdin",
     "output_type": "stream",
     "text": [
      " 1\n",
      " 2\n",
      " 1\n",
      " 3\n",
      " 1\n"
     ]
    },
    {
     "name": "stdout",
     "output_type": "stream",
     "text": [
      "\n",
      "Our Orginal list is:  ['1', '2', '1', '3', '1']\n",
      "list has not any duplicate element\n"
     ]
    }
   ],
   "source": [
    "size = int(input(\"Enter the size of the list: \"))\n",
    "\n",
    "lis = []\n",
    "\n",
    "print(\"Enter the data in the list: \")\n",
    "for i in range(size):\n",
    "    value = input()\n",
    "    lis.append(value)\n",
    "\n",
    "print(\"\\nOur Orginal list is: \",lis)\n",
    "\n",
    "unique_ele = []\n",
    "\n",
    "for i in lis:\n",
    "    if"
   ]
  },
  {
   "cell_type": "markdown",
   "id": "d6654651-6fc9-4688-b6ea-7d1e12080676",
   "metadata": {},
   "source": [
    "# Q16) Create a code to check if a given list is sorted (either in ascending or descending order) or not."
   ]
  },
  {
   "cell_type": "code",
   "execution_count": 6,
   "id": "467d871a-a4a6-4f07-bc0f-4dba090f450d",
   "metadata": {},
   "outputs": [
    {
     "name": "stdin",
     "output_type": "stream",
     "text": [
      "Enter the Size of the list:  5\n"
     ]
    },
    {
     "name": "stdout",
     "output_type": "stream",
     "text": [
      "Enter the data in the list: \n"
     ]
    },
    {
     "name": "stdin",
     "output_type": "stream",
     "text": [
      " 11\n",
      " 22\n",
      " 33\n",
      " 44\n",
      " 55\n"
     ]
    },
    {
     "name": "stdout",
     "output_type": "stream",
     "text": [
      "Our Orginal list is:  ['11', '22', '33', '44', '55']\n"
     ]
    },
    {
     "name": "stdin",
     "output_type": "stream",
     "text": [
      "\n",
      "Check Sorted Order:-\n",
      "1.Ascending order\n",
      "2.Descending Order\n",
      "Enter your choise:  1\n"
     ]
    },
    {
     "name": "stdout",
     "output_type": "stream",
     "text": [
      "List is Sorted by Ascending Order\n"
     ]
    }
   ],
   "source": [
    "size = int(input(\"Enter the Size of the list: \"))\n",
    "\n",
    "lis = []\n",
    "\n",
    "print(\"Enter the data in the list: \")\n",
    "for i in range(size):\n",
    "    value = input()\n",
    "    lis.append(value)\n",
    "\n",
    "print(\"Our Orginal list is: \",lis)\n",
    "\n",
    "choise = int(input(\"\\nCheck Sorted Order:-\\n1.Ascending order\\n2.Descending Order\\nEnter your choise: \"))\n",
    "\n",
    "match choise:\n",
    "    case 1:\n",
    "        if (lis == sorted(lis)):\n",
    "            print(\"List is Sorted by Ascending Order\")\n",
    "        else:\n",
    "            print(\"List is not Sorted by Ascending oorder\")\n",
    "    case 2:\n",
    "        if(lis == sorted(lis,reverse = True)):\n",
    "            print(\"The List is Sort by descending Order\")\n",
    "        else:\n",
    "            print(\"The list is not sort by descending order\")\n",
    "    case __ :\n",
    "        print(\"Invalid Choise!!!\")"
   ]
  },
  {
   "cell_type": "markdown",
   "id": "6b5cd0c7-0a33-42e9-9b93-69745a37593d",
   "metadata": {},
   "source": [
    "# Q17) Write a code to merge two sorted lists into a single sorted list."
   ]
  },
  {
   "cell_type": "code",
   "execution_count": 17,
   "id": "8b1fedaf-7c77-479f-83fc-0f6e51862bc8",
   "metadata": {},
   "outputs": [
    {
     "name": "stdout",
     "output_type": "stream",
     "text": [
      "\n",
      "Our 1st Orginal list is:  [1, 3, 5, 7, 9, 11]\n",
      "Our 2nd orginal list is:  [2, 4, 6, 8, 10]\n",
      "\n",
      "The sorted merge list is:  [1, 2, 3, 4, 5, 6, 7, 8, 9, 10, 11]\n"
     ]
    }
   ],
   "source": [
    "sort_list1 = [1,3,5,7,9,11]\n",
    "sort_list2 = [2,4,6,8,10]\n",
    "\n",
    "print(\"\\nOur 1st Orginal list is: \",sort_list1)\n",
    "print(\"Our 2nd orginal list is: \",sort_list2)\n",
    "\n",
    "size_list1 = len(sort_list1)\n",
    "size_list2 = len(sort_list2)\n",
    "\n",
    "res = []\n",
    "\n",
    "i = 0\n",
    "j = 0\n",
    "\n",
    "while i < size_list1 and j < size_list2:\n",
    "    if (sort_list1[i] < sort_list2[j]):\n",
    "        res.append(sort_list1[i])\n",
    "        i += 1\n",
    "    else:\n",
    "        res.append(sort_list2[j])\n",
    "        j += 1\n",
    "res = res + sort_list1[i:] + sort_list2[j:]\n",
    "\n",
    "print(\"\\nThe sorted merge list is: \",res)"
   ]
  },
  {
   "cell_type": "markdown",
   "id": "07717461-4775-4ab3-98e7-bc3585ef46a0",
   "metadata": {},
   "source": [
    "# Q18) Implement a code to find the intersection of two given lists."
   ]
  },
  {
   "cell_type": "code",
   "execution_count": 22,
   "id": "cb8ffb1f-2073-49f0-8b52-bb9f6d880f9e",
   "metadata": {},
   "outputs": [
    {
     "name": "stdin",
     "output_type": "stream",
     "text": [
      "Enter the Size of the 1st list:  5\n"
     ]
    },
    {
     "name": "stdout",
     "output_type": "stream",
     "text": [
      "Enter the data in the 1st list: \n"
     ]
    },
    {
     "name": "stdin",
     "output_type": "stream",
     "text": [
      " 11\n",
      " 22\n",
      " 33\n",
      " 44\n",
      " 55\n",
      "\n",
      "Enter the size of the 2nd list:  5\n"
     ]
    },
    {
     "name": "stdout",
     "output_type": "stream",
     "text": [
      "Enter the data in the 2nd list: \n"
     ]
    },
    {
     "name": "stdin",
     "output_type": "stream",
     "text": [
      " 66\n",
      " 1\n",
      " 11\n",
      " 55\n",
      " 88\n"
     ]
    },
    {
     "name": "stdout",
     "output_type": "stream",
     "text": [
      "\n",
      "Our 1st Orginal list is:  ['11', '22', '33', '44', '55']\n",
      "Our 2nd Orginal  list is:  ['66', '1', '11', '55', '88']\n",
      "\n",
      "Intersection of 2 list is:  ['11', '55']\n"
     ]
    }
   ],
   "source": [
    "size1 = int(input(\"Enter the Size of the 1st list: \"))\n",
    "\n",
    "lis1 = []\n",
    "\n",
    "print(\"Enter the data in the 1st list: \")\n",
    "\n",
    "for i in range(size1):\n",
    "    value = input()\n",
    "    lis1.append(value)\n",
    "\n",
    "size2 = int(input(\"\\nEnter the size of the 2nd list: \"))\n",
    "\n",
    "lis2 = []\n",
    "\n",
    "print(\"Enter the data in the 2nd list: \")\n",
    "for i in range(size2):\n",
    "    value = input()\n",
    "    lis2.append(value)\n",
    "\n",
    "print(\"\\nOur 1st Orginal list is: \",lis1)\n",
    "print(\"Our 2nd Orginal  list is: \",lis2)\n",
    "\n",
    "# Check intersection of 2 list\n",
    "print(\"\\nIntersection of 2 list is: \",list(set(lis1) & set(lis2)))"
   ]
  },
  {
   "cell_type": "markdown",
   "id": "7fa45b06-7ec7-41fe-b56e-46039b4c546a",
   "metadata": {},
   "source": [
    "# Q19) Create a code to find the union of two lists without duplicates."
   ]
  },
  {
   "cell_type": "code",
   "execution_count": 27,
   "id": "916fd808-171b-4d93-9fea-0f9c3c3938cb",
   "metadata": {},
   "outputs": [
    {
     "name": "stdin",
     "output_type": "stream",
     "text": [
      "Enter the size of the 1st list:  5\n"
     ]
    },
    {
     "name": "stdout",
     "output_type": "stream",
     "text": [
      "Enter the data in the 1st list: \n"
     ]
    },
    {
     "name": "stdin",
     "output_type": "stream",
     "text": [
      " 11\n",
      " 22\n",
      " 33\n",
      " 44\n",
      " 55\n",
      "\n",
      "Enter the size of the 2nd list:  5\n"
     ]
    },
    {
     "name": "stdout",
     "output_type": "stream",
     "text": [
      "Enter the data in the 2nd list: \n"
     ]
    },
    {
     "name": "stdin",
     "output_type": "stream",
     "text": [
      " 11\n",
      " 55\n",
      " 77\n",
      " 66\n",
      " 22\n"
     ]
    },
    {
     "name": "stdout",
     "output_type": "stream",
     "text": [
      "\n",
      "Our 1st Orginal list is:  ['11', '22', '33', '44', '55']\n",
      "Our 2nd Orginal list is:  ['11', '55', '77', '66', '22']\n",
      "\n",
      "Union of 2 list is:  ['22', '44', '55', '11', '66', '77', '33']\n"
     ]
    }
   ],
   "source": [
    "size1 = int(input(\"Enter the size of the 1st list: \"))\n",
    "\n",
    "lis1 = []\n",
    "\n",
    "print(\"Enter the data in the 1st list: \")\n",
    "for i in range(size1):\n",
    "    value = input()\n",
    "    lis1.append(value)\n",
    "\n",
    "size2 = int(input(\"\\nEnter the size of the 2nd list: \"))\n",
    "\n",
    "lis2 = []\n",
    "\n",
    "print(\"Enter the data in the 2nd list: \")\n",
    "for i in range(size2):\n",
    "    value = input()\n",
    "    lis2.append(value)\n",
    "\n",
    "print(\"\\nOur 1st Orginal list is: \",lis1)\n",
    "print(\"Our 2nd Orginal list is: \",lis2)\n",
    "\n",
    "# Check the union of 2 list\n",
    "print(\"\\nUnion of 2 list is: \",list(set(lis1) | set(lis2)))"
   ]
  },
  {
   "cell_type": "markdown",
   "id": "6fe23fad-fdfa-417c-88d6-3095330f17b5",
   "metadata": {},
   "source": [
    "# Q20) Write a code to shuffle a given list randomly without using any built-in shuffle functions."
   ]
  },
  {
   "cell_type": "code",
   "execution_count": 30,
   "id": "1d57c60d-8158-4612-8d72-5f6b3cef0e3a",
   "metadata": {},
   "outputs": [
    {
     "name": "stdin",
     "output_type": "stream",
     "text": [
      "Enter the size of the list:  5\n"
     ]
    },
    {
     "name": "stdout",
     "output_type": "stream",
     "text": [
      "Enter the data in the list: \n"
     ]
    },
    {
     "name": "stdin",
     "output_type": "stream",
     "text": [
      " 11\n",
      " 2\n",
      " 33\n",
      " 44\n",
      " 55\n"
     ]
    },
    {
     "name": "stdout",
     "output_type": "stream",
     "text": [
      "\n",
      "Our Orginal list is:  ['11', '2', '33', '44', '55']\n",
      "\n",
      "Our Shuffle list is:  ['44', '33', '55', '2', '11']\n"
     ]
    }
   ],
   "source": [
    "import random\n",
    "\n",
    "size = int(input(\"Enter the size of the list: \"))\n",
    "\n",
    "lis = []\n",
    "\n",
    "print(\"Enter the data in the list: \")\n",
    "for i in range(size):\n",
    "    value = input()\n",
    "    lis.append(value)\n",
    "\n",
    "print(\"\\nOur Orginal list is: \",lis)\n",
    "\n",
    "length = len(lis)\n",
    "\n",
    "for i in range(length-1,0,-1):\n",
    "    j = random.randint(0,i)\n",
    "\n",
    "    # Shuffle list\n",
    "    lis[i],lis[j] = lis[j],lis[i]\n",
    "\n",
    "print(\"\\nOur Shuffle list is: \",lis)"
   ]
  },
  {
   "cell_type": "markdown",
   "id": "87b1088d-d212-4c8f-8513-f86ebdd5c67d",
   "metadata": {},
   "source": [
    "# Q21) Write a code that takes two tuples as input and returns a new tuple containing elements that are common to both input tuples."
   ]
  },
  {
   "cell_type": "code",
   "execution_count": 4,
   "id": "7fec6ef0-1b57-4c6d-aa25-a4e23d04eba2",
   "metadata": {},
   "outputs": [
    {
     "name": "stdin",
     "output_type": "stream",
     "text": [
      "Enter the size of the 1st tuple:  5\n"
     ]
    },
    {
     "name": "stdout",
     "output_type": "stream",
     "text": [
      "Enter the data in tuple: \n"
     ]
    },
    {
     "name": "stdin",
     "output_type": "stream",
     "text": [
      " 11\n",
      " 22\n",
      " 33\n",
      " 44\n",
      " 55\n",
      "Enter the size of 2nd tuple:  5\n"
     ]
    },
    {
     "name": "stdout",
     "output_type": "stream",
     "text": [
      "Enter the data in tuple: \n"
     ]
    },
    {
     "name": "stdin",
     "output_type": "stream",
     "text": [
      " 11\n",
      " 22\n",
      " 66\n",
      " 33\n",
      " 88\n"
     ]
    },
    {
     "name": "stdout",
     "output_type": "stream",
     "text": [
      "\n",
      "Youu orginal 1st tuple is:  ('11', '22', '33', '44', '55')\n",
      "Your orginal  2nd tuuple is:  ('11', '22', '66', '33', '88')\n",
      "\n",
      "The Common element of 2 tuples are:  ('33', '11', '22')\n"
     ]
    }
   ],
   "source": [
    "def create_list(n):\n",
    "    lis = []\n",
    "\n",
    "    print(\"Enter the data in tuple: \")\n",
    "    for i in range(n):\n",
    "        value = input()\n",
    "        lis.append(value)\n",
    "    return lis\n",
    "\n",
    "# Create 1st tuple by the user\n",
    "size1 = int(input(\"Enter the size of the 1st tuple: \"))\n",
    "tup1 = tuple(create_list(size1))\n",
    "\n",
    "# Create 2nd tuple by the user\n",
    "size2 = int(input(\"Enter the size of 2nd tuple: \"))\n",
    "tup2 = tuple(create_list(size2))\n",
    "\n",
    "# print 2 orginal tuple\n",
    "print(\"\\nYouu orginal 1st tuple is: \",tup1)\n",
    "print(\"Your orginal  2nd tuuple is: \",tup2)\n",
    "\n",
    "#Find the common element of 2 tuples\n",
    "print(\"\\nThe Common element of 2 tuples are: \",tuple(set(tup1) & set(tup2)))"
   ]
  },
  {
   "cell_type": "markdown",
   "id": "ae10dbfc-820f-4f99-b7aa-52e6cfe599f3",
   "metadata": {},
   "source": [
    "# Q22) Create a code that prompts the user to enter two sets of integers separated by commas. Then, print the intersection of these two sets"
   ]
  },
  {
   "cell_type": "code",
   "execution_count": 8,
   "id": "95f4e3d7-4a21-4b82-9389-cc01a168999f",
   "metadata": {},
   "outputs": [
    {
     "name": "stdin",
     "output_type": "stream",
     "text": [
      "Enter the size of the 1st set:  5\n"
     ]
    },
    {
     "name": "stdout",
     "output_type": "stream",
     "text": [
      "\n",
      "Enter the data in the set: \n"
     ]
    },
    {
     "name": "stdin",
     "output_type": "stream",
     "text": [
      " 11\n",
      " 22\n",
      " 33\n",
      " 44\n",
      " 55\n",
      "Enter the size of 2nd set:  5\n"
     ]
    },
    {
     "name": "stdout",
     "output_type": "stream",
     "text": [
      "\n",
      "Enter the data in the set: \n"
     ]
    },
    {
     "name": "stdin",
     "output_type": "stream",
     "text": [
      " 11\n",
      " 44\n",
      " 77\n",
      " 66\n",
      " 22\n"
     ]
    },
    {
     "name": "stdout",
     "output_type": "stream",
     "text": [
      "\n",
      "Your 1st orginal set is:  {33, 11, 44, 22, 55}\n",
      "Your 2nd Orginal set is:  {66, 11, 44, 77, 22}\n",
      "Intersection of 2 set is:  {11, 44, 22}\n"
     ]
    }
   ],
   "source": [
    "# Create set function\n",
    "def create_set(n):\n",
    "    '''This function Create a set and return a set\n",
    "        Args:\n",
    "            n: n is a any integer value.Which defined the size of the set.\n",
    "        return:\n",
    "            return a integer set.\n",
    "    '''\n",
    "    s = set({}) # First create  a empty set.Where the value add\n",
    "    print(\"\\nEnter the data in the set: \")\n",
    "    for i in range(n):\n",
    "        value = int(input())\n",
    "        s.add(value)\n",
    "    return s\n",
    "\n",
    "size1 = int(input(\"Enter the size of the 1st set: \"))\n",
    "\n",
    "set1 = create_set(size1)\n",
    "\n",
    "size2 = int(input(\"Enter the size of 2nd set: \"))\n",
    "set2 = create_set(size2)\n",
    "\n",
    "# print the Orginal set\n",
    "print(\"\\nYour 1st orginal set is: \",set1)\n",
    "print(\"Your 2nd Orginal set is: \",set2)\n",
    "\n",
    "# print intersection of 2 set\n",
    "print(\"Intersection of 2 set is: \",set1 & set2)"
   ]
  },
  {
   "cell_type": "markdown",
   "id": "7020f27d-b4b2-4a08-a736-1f98085d62fd",
   "metadata": {},
   "source": [
    "# Q23) Write a code to concatenate two tuples. The function should take two tuples as input and return a new tuple containing elements from both input tuples."
   ]
  },
  {
   "cell_type": "code",
   "execution_count": 15,
   "id": "7bdf2683-3f01-48c0-ba07-2f02eb29ae18",
   "metadata": {},
   "outputs": [
    {
     "name": "stdin",
     "output_type": "stream",
     "text": [
      "Enter the size of the 1st tuple:  5\n"
     ]
    },
    {
     "name": "stdout",
     "output_type": "stream",
     "text": [
      "Enter the data in the tuple: \n"
     ]
    },
    {
     "name": "stdin",
     "output_type": "stream",
     "text": [
      " 1\n",
      " 2\n",
      " 3\n",
      " 4\n",
      " 5\n",
      "Enter the size of the 2nd tuple:  5\n"
     ]
    },
    {
     "name": "stdout",
     "output_type": "stream",
     "text": [
      "Enter the data in the tuple: \n"
     ]
    },
    {
     "name": "stdin",
     "output_type": "stream",
     "text": [
      " 6\n",
      " 7\n",
      " 8\n",
      " 9\n",
      " 10\n"
     ]
    },
    {
     "name": "stdout",
     "output_type": "stream",
     "text": [
      "\n",
      "Your 1st Orginal tuple is:  ('1', '2', '3', '4', '5')\n",
      "Your 2nd Orginal tuple is:  ('6', '7', '8', '9', '10')\n",
      "\n",
      "After Concatenate 2 tuples.Your new tuple is:  ('1', '2', '3', '4', '5', '6', '7', '8', '9', '10')\n"
     ]
    }
   ],
   "source": [
    "# create 2 list and later convert into a tuple\n",
    "def create_list(n):\n",
    "    '''\n",
    "        This function take a size of the list and create a list.\n",
    "        Args:\n",
    "            n: any integer values.where n represent the size of the  liist\n",
    "        return:\n",
    "            return a whole list to a main function\n",
    "    '''\n",
    "    lis = [] # Create emepty list Where append the value\n",
    "    print(\"Enter the data in the tuple: \")\n",
    "    for i in range(n):\n",
    "        value = input()\n",
    "        lis.append(value)\n",
    "    return lis\n",
    "\n",
    "size1 = int(input(\"Enter the size of the 1st tuple: \"))\n",
    "tup1 = tuple(create_list(size1))\n",
    "\n",
    "size2 = int(input(\"Enter the size of the 2nd tuple: \"))\n",
    "tup2 = tuple(create_list(size2))\n",
    "\n",
    "# print the orgiinal 2 tuple\n",
    "print(\"\\nYour 1st Orginal tuple is: \",tup1)\n",
    "print(\"Your 2nd Orginal tuple is: \",tup2)\n",
    "\n",
    "# Concatenate 2 tuple\n",
    "print(\"\\nAfter Concatenate 2 tuples.Your new tuple is: \",tup1 + tup2)"
   ]
  },
  {
   "cell_type": "markdown",
   "id": "40e07b69-f30a-425e-821f-d2e4c3d70e17",
   "metadata": {},
   "source": [
    "# Q24)Develop a code that prompts the user to input two sets of strings. Then, print the elements that are present in the first set but not in the second set."
   ]
  },
  {
   "cell_type": "code",
   "execution_count": 6,
   "id": "c2983741-fe29-4deb-b5ff-05a88cd3b4b6",
   "metadata": {},
   "outputs": [
    {
     "name": "stdin",
     "output_type": "stream",
     "text": [
      "Enter the size of the 1st set:  3\n"
     ]
    },
    {
     "name": "stdout",
     "output_type": "stream",
     "text": [
      "Enter the data (only String) in the set: \n"
     ]
    },
    {
     "name": "stdin",
     "output_type": "stream",
     "text": [
      " biswajit\n",
      " akash\n",
      " dip\n",
      "Enter the Size of the 2nd set:  3\n"
     ]
    },
    {
     "name": "stdout",
     "output_type": "stream",
     "text": [
      "Enter the data (only String) in the set: \n"
     ]
    },
    {
     "name": "stdin",
     "output_type": "stream",
     "text": [
      " suraj\n",
      " dip\n",
      " akash\n"
     ]
    },
    {
     "name": "stdout",
     "output_type": "stream",
     "text": [
      "\n",
      "Your 1st Orginal set is:  {'dip', 'akash', 'biswajit'}\n",
      "your 2nd Orginal set is:  {'dip', 'akash', 'suraj'}\n",
      "\n",
      "The elements that are present in the first set but not in the second set is:  {'biswajit'}\n"
     ]
    }
   ],
   "source": [
    "# Create a Set of String\n",
    "def create_set(n):\n",
    "    s = set({})\n",
    "    print(\"Enter the data (only String) in the set: \")\n",
    "    for i in range(n):\n",
    "        value = input()\n",
    "        s.add(value)\n",
    "    return s\n",
    "\n",
    "size1 = int(input(\"Enter the size of the 1st set: \"))\n",
    "set1 = create_set(size1)\n",
    "\n",
    "size2 = int(input(\"Enter the Size of the 2nd set: \"))\n",
    "set2 = create_set(size2)\n",
    "\n",
    "print(\"\\nYour 1st Orginal set is: \",set1)\n",
    "print(\"your 2nd Orginal set is: \",set2)\n",
    "\n",
    "print(\"\\nThe elements that are present in the first set but not in the second set is: \",set1 - set2)"
   ]
  },
  {
   "cell_type": "markdown",
   "id": "dcff925a-f702-4e49-b884-8c001ff653b1",
   "metadata": {},
   "source": [
    "# Q25) Create a code that takes a tuple and two integers as input. The function should return a new tuple containing elements from the original tuple within the specified range of indices"
   ]
  },
  {
   "cell_type": "code",
   "execution_count": 15,
   "id": "5fc40460-1510-4b92-bba7-a7a03610043d",
   "metadata": {},
   "outputs": [
    {
     "name": "stdin",
     "output_type": "stream",
     "text": [
      "Enter the size of the tuple:  5\n"
     ]
    },
    {
     "name": "stdout",
     "output_type": "stream",
     "text": [
      "Enter the data in the tuple: \n"
     ]
    },
    {
     "name": "stdin",
     "output_type": "stream",
     "text": [
      " 11\n",
      " 22\n",
      " 3\n",
      " 33\n",
      " 44\n"
     ]
    },
    {
     "name": "stdout",
     "output_type": "stream",
     "text": [
      "\n",
      "Your orginal tuple is:  ('11', '22', '3', '33', '44')\n"
     ]
    },
    {
     "name": "stdin",
     "output_type": "stream",
     "text": [
      "\n",
      "Enter the Start index:  0\n",
      "Enter the end index:  3\n"
     ]
    },
    {
     "name": "stdout",
     "output_type": "stream",
     "text": [
      "\n",
      "Final tuple is:  ('11', '22', '3', '33')\n"
     ]
    }
   ],
   "source": [
    "# return a new tuple by specified index\n",
    "def ret_tup(tup,s,e):\n",
    "    lis = []\n",
    "    if(e > len(tup)):\n",
    "        print(\"End index out of rannge of the given list\")\n",
    "    else:\n",
    "        for i in range(s,e+1):\n",
    "            lis.append(tup[i])\n",
    "    \n",
    "        print(\"\\nFinal tuple is: \",tuple(lis))\n",
    "\n",
    "# create a tuple\n",
    "def create_tuple(n):\n",
    "    l = []\n",
    "    print(\"Enter the data in the tuple: \")\n",
    "    for i in range(n):\n",
    "        value = input()\n",
    "        l.append(value)\n",
    "\n",
    "    return tuple(l)\n",
    "\n",
    "size = int(input(\"Enter the size of the tuple: \"))\n",
    "tup = create_tuple(size)\n",
    "\n",
    "print(\"\\nYour orginal tuple is: \",tup)\n",
    "\n",
    "start = int(input(\"\\nEnter the Start index: \"))\n",
    "end = int(input(\"Enter the end index: \"))\n",
    "\n",
    "ret_tup(tup,start,end)"
   ]
  },
  {
   "cell_type": "markdown",
   "id": "ae3e6811-2796-4b22-a5e2-e32fa608156a",
   "metadata": {},
   "source": [
    "# Q26)Write a code that prompts the user to input two sets of characters. Then, print the union of these two sets"
   ]
  },
  {
   "cell_type": "code",
   "execution_count": 22,
   "id": "ecc35afb-f595-45bc-90b0-c9e2fd37f645",
   "metadata": {},
   "outputs": [
    {
     "name": "stdin",
     "output_type": "stream",
     "text": [
      "Enter the size of 1st set:  3\n"
     ]
    },
    {
     "name": "stdout",
     "output_type": "stream",
     "text": [
      "Enter the data in the set: \n"
     ]
    },
    {
     "name": "stdin",
     "output_type": "stream",
     "text": [
      " a\n",
      " s\n",
      " d\n",
      "Enter the size of the 2nd set:  4\n"
     ]
    },
    {
     "name": "stdout",
     "output_type": "stream",
     "text": [
      "Enter the data in the set: \n"
     ]
    },
    {
     "name": "stdin",
     "output_type": "stream",
     "text": [
      " a\n",
      " c\n",
      " biswajit\n"
     ]
    },
    {
     "name": "stdout",
     "output_type": "stream",
     "text": [
      "Enter only character value\n"
     ]
    },
    {
     "name": "stdin",
     "output_type": "stream",
     "text": [
      " g\n",
      " d\n"
     ]
    },
    {
     "name": "stdout",
     "output_type": "stream",
     "text": [
      "\n",
      "Your 1st Orginal set is:  {'s', 'a', 'd'}\n",
      "Your 2nd Orginal list is:  {'c', 'a', 'g', 'd'}\n",
      "\n",
      "The union of the two set is:  {'s', 'c', 'a', 'g', 'd'}\n"
     ]
    }
   ],
   "source": [
    "# create a set\n",
    "def create_set(n):\n",
    "    s = set({})\n",
    "    print(\"Enter the data in the set: \")\n",
    "    i = 0\n",
    "    while i < n:\n",
    "        value = input()\n",
    "        if len(value) > 1:\n",
    "            print(\"Enter only character value\")\n",
    "        else:\n",
    "            s.add(value)\n",
    "            i += 1\n",
    "    return s\n",
    "\n",
    "size1 = int(input(\"Enter the size of 1st set: \"))\n",
    "s1 = create_set(size1)\n",
    "\n",
    "size2 = int(input(\"Enter the size of the 2nd set: \"))\n",
    "s2 = create_set(size2)\n",
    "\n",
    "print(\"\\nYour 1st Orginal set is: \",s1)\n",
    "print(\"Your 2nd Orginal list is: \",s2)\n",
    "\n",
    "print(\"\\nThe union of the two set is: \",s1 | s2)"
   ]
  },
  {
   "cell_type": "markdown",
   "id": "e56fbe40-c999-4859-a88d-fa6fa43eb524",
   "metadata": {},
   "source": [
    "# Q27) Develop a code that takes a tuple of integers as input. The function should return the maximum and minimum values from the tuple using tuple unpacking"
   ]
  },
  {
   "cell_type": "code",
   "execution_count": 1,
   "id": "d8ef8307-99a8-4370-a13c-098d012c834f",
   "metadata": {},
   "outputs": [
    {
     "name": "stdin",
     "output_type": "stream",
     "text": [
      "Enter the size of the tuple:  5\n"
     ]
    },
    {
     "name": "stdout",
     "output_type": "stream",
     "text": [
      "Enter the dat in the tuple: \n"
     ]
    },
    {
     "name": "stdin",
     "output_type": "stream",
     "text": [
      " 11\n",
      " 44\n",
      " 22\n",
      " 66\n",
      " 33\n"
     ]
    },
    {
     "name": "stdout",
     "output_type": "stream",
     "text": [
      "\n",
      "Your Orginal tuple is:  ('11', '44', '22', '66', '33')\n",
      "\n",
      "The maximum value of the tuple is:  66\n",
      "The minimum value of the tuple is:  11\n"
     ]
    }
   ],
   "source": [
    "# Find maximum value in the tuple\n",
    "def find_max(tup):\n",
    "    max_no = tup[0]\n",
    "\n",
    "    for i in range(1,len(tup)):\n",
    "        if(max_no < tup[i]):\n",
    "            max_no = tup[i]\n",
    "\n",
    "    return max_no\n",
    "\n",
    "# Find minimum value of the tuple\n",
    "def find_min(tup):\n",
    "    min_no = tup[0]\n",
    "    for i in range(1,len(tup)):\n",
    "        if(min_no > tup[i]):\n",
    "            min_no = tup[i]\n",
    "\n",
    "    return min_no\n",
    "\n",
    "# Create a tuple\n",
    "def create_tuple(n):\n",
    "    l = []\n",
    "    print(\"Enter the dat in the tuple: \")\n",
    "    for i in range(n):\n",
    "        value = input()\n",
    "        l.append(value)\n",
    "\n",
    "    return tuple(l)\n",
    "\n",
    "size = int(input(\"Enter the size of the tuple: \"))\n",
    "tup = create_tuple(size)\n",
    "\n",
    "print(\"\\nYour Orginal tuple is: \",tup)\n",
    "\n",
    "print(\"\\nThe maximum value of the tuple is: \",find_max(tup))\n",
    "print(\"The minimum value of the tuple is: \",find_min(tup))"
   ]
  },
  {
   "cell_type": "markdown",
   "id": "d39f7a81-1589-408a-b8b6-8391c102dea7",
   "metadata": {},
   "source": [
    "# Q28)Create a code that defines two sets of integers. Then, print the union, intersection, and difference of these two sets"
   ]
  },
  {
   "cell_type": "code",
   "execution_count": 4,
   "id": "da34b9aa-ccaf-4037-946a-394a552fed8d",
   "metadata": {},
   "outputs": [
    {
     "name": "stdin",
     "output_type": "stream",
     "text": [
      "Enter the size of the 1st set:  5\n"
     ]
    },
    {
     "name": "stdout",
     "output_type": "stream",
     "text": [
      "Enter the data(only integer value) in the set: \n"
     ]
    },
    {
     "name": "stdin",
     "output_type": "stream",
     "text": [
      " 1\n",
      " 2\n",
      " 3\n",
      " 4\n",
      " 5\n",
      "Enter the size of the 2nd set:  2\n"
     ]
    },
    {
     "name": "stdout",
     "output_type": "stream",
     "text": [
      "Enter the data(only integer value) in the set: \n"
     ]
    },
    {
     "name": "stdin",
     "output_type": "stream",
     "text": [
      " 3\n",
      " 7\n"
     ]
    },
    {
     "name": "stdout",
     "output_type": "stream",
     "text": [
      "\n",
      "Your 1st Orginal set is:  {1, 2, 3, 4, 5}\n",
      "Your 2nd Orginal set is:  {3, 7}\n",
      "\n",
      "The Union of 2 set is:  {1, 2, 3, 4, 5, 7}\n",
      "The intersection of 2 set is:  {3}\n",
      "The difference of 2 set is:  {1, 2, 4, 5}\n"
     ]
    }
   ],
   "source": [
    "# Create set\n",
    "def create_set(n):\n",
    "    s = set({})\n",
    "    print(\"Enter the data(only integer value) in the set: \")\n",
    "    for i in range(n):\n",
    "        value = int(input())\n",
    "        s.add(value)\n",
    "\n",
    "    return s\n",
    "\n",
    "size1 = int(input(\"Enter the size of the 1st set: \"))\n",
    "set1 = create_set(size1)\n",
    "\n",
    "size2 = int(input(\"Enter the size of the 2nd set: \"))\n",
    "set2 = create_set(size2)\n",
    "\n",
    "print(\"\\nYour 1st Orginal set is: \",set1)\n",
    "print(\"Your 2nd Orginal set is: \",set2)\n",
    "\n",
    "print(\"\\nThe Union of 2 set is: \",set1 | set2)\n",
    "print(\"The intersection of 2 set is: \",set1 & set2)\n",
    "print(\"The difference of 2 set is: \",set1 - set2)"
   ]
  },
  {
   "cell_type": "markdown",
   "id": "d2216522-86e7-4f6c-9177-b2ed330a75e4",
   "metadata": {},
   "source": [
    "# Q29) Write a code that takes a tuple and an element as input. The function should return the count of occurrences of the given element in the tuple"
   ]
  },
  {
   "cell_type": "code",
   "execution_count": 6,
   "id": "e0793a06-4a1b-4b2f-bb7a-cf49b79b8e1b",
   "metadata": {},
   "outputs": [
    {
     "name": "stdin",
     "output_type": "stream",
     "text": [
      "Enter the size of the tuple:  10\n",
      "Enter the data from index no. 0:  11\n",
      "Enter the data from index no. 1:  22\n",
      "Enter the data from index no. 2:  33\n",
      "Enter the data from index no. 3:  11\n",
      "Enter the data from index no. 4:  11\n",
      "Enter the data from index no. 5:  11\n",
      "Enter the data from index no. 6:  22\n",
      "Enter the data from index no. 7:  44\n",
      "Enter the data from index no. 8:  33\n",
      "Enter the data from index no. 9:  55\n"
     ]
    },
    {
     "name": "stdout",
     "output_type": "stream",
     "text": [
      "\n",
      "Your Orginal tuple is:  (11, 22, 33, 11, 11, 11, 22, 44, 33, 55)\n"
     ]
    },
    {
     "name": "stdin",
     "output_type": "stream",
     "text": [
      "\n",
      "Enter the element whose occurenec you find the tuple:  11\n"
     ]
    },
    {
     "name": "stdout",
     "output_type": "stream",
     "text": [
      "\n",
      "Using user defined function the no. 11 occurence in tuple is: 4\n",
      "\n",
      "Using in-built function the no. 11 ocuurence in tuple is 4\n"
     ]
    }
   ],
   "source": [
    "# Find the Occurence a particular element\n",
    "def occurence(tup,element):\n",
    "    count = 0\n",
    "    for i in tup:\n",
    "        if(i == element):\n",
    "            count += 1\n",
    "    return count\n",
    "\n",
    "# Create a tuple\n",
    "def create_tuple(n):\n",
    "    lis = []\n",
    "    for i in range(n):\n",
    "        value = int(input(f\"Enter the data from index no. {str(i)}: \"))\n",
    "        lis.append(value)\n",
    "\n",
    "    return tuple(lis)\n",
    "\n",
    "size = int(input(\"Enter the size of the tuple: \"))\n",
    "tup = create_tuple(size)\n",
    "print(\"\\nYour Orginal tuple is: \",tup)\n",
    "\n",
    "element = int(input(\"\\nEnter the element whose occurenec you find the tuple: \"))\n",
    "\n",
    "# using user-defined function\n",
    "print(f\"\\nUsing user defined function the no. {element} occurence in tuple is: {occurence(tup,element)}\")\n",
    "\n",
    "# Using count in-built function\n",
    "print(f\"\\nUsing in-built function the no. {element} ocuurence in tuple is {tup.count(element)}\")"
   ]
  },
  {
   "cell_type": "markdown",
   "id": "b2057347-9296-438f-bc4f-a4545cc25358",
   "metadata": {},
   "source": [
    "# Q30) Develop a code that prompts the user to input two sets of strings. Then, print the symmetric difference of these two sets"
   ]
  },
  {
   "cell_type": "code",
   "execution_count": 15,
   "id": "0624c468-3ceb-4312-b47d-2a385825431b",
   "metadata": {},
   "outputs": [
    {
     "name": "stdin",
     "output_type": "stream",
     "text": [
      "Enter the size of the 1st set:  5\n",
      "Enter the data from index no. 0:  11\n",
      "Enter the data from index no. 1:  22\n",
      "Enter the data from index no. 2:  33\n",
      "Enter the data from index no. 3:  44\n",
      "Enter the data from index no. 4:  55\n",
      "\n",
      "Enter the size of the 2nd set:  5\n",
      "Enter the data from index no. 0:  77\n",
      "Enter the data from index no. 1:  88\n",
      "Enter the data from index no. 2:  11\n",
      "Enter the data from index no. 3:  22\n",
      "Enter the data from index no. 4:  33\n"
     ]
    },
    {
     "name": "stdout",
     "output_type": "stream",
     "text": [
      "\n",
      "Your 1st Orginal set is:  {33, 11, 44, 22, 55}\n",
      "Your 2nd Orginal set is:  {33, 11, 77, 22, 88}\n",
      "\n",
      "The Symmetric difference between two set is:  {55, 88, 44, 77}\n"
     ]
    }
   ],
   "source": [
    "# set are not allowed duplicate element\n",
    "# create a set function\n",
    "def create_set(n):\n",
    "    s = set({})\n",
    "    for i in range(n):\n",
    "        value = int(input(f\"Enter the data from index no. {str(i)}: \"))\n",
    "        s.add(value)\n",
    "    return s\n",
    "\n",
    "size1 = int(input(\"Enter the size of the 1st set: \"))\n",
    "set1 = create_set(size1)\n",
    "\n",
    "size2 = int(input(\"\\nEnter the size of the 2nd set: \"))\n",
    "set2 = create_set(size2)\n",
    "\n",
    "print(\"\\nYour 1st Orginal set is: \",set1)\n",
    "print(\"Your 2nd Orginal set is: \",set2)\n",
    "\n",
    "print(\"\\nThe Symmetric difference between two set is: \",set1 ^ set2)"
   ]
  },
  {
   "cell_type": "markdown",
   "id": "a9c11dc7-3a0e-4a2c-a2cd-66d2a683eaff",
   "metadata": {},
   "source": [
    "# Q31)Write a code that takes a list of words as input and returns a dictionary where the keys are unique words and the values are the frequencies of those words in the input list"
   ]
  },
  {
   "cell_type": "code",
   "execution_count": 18,
   "id": "04965114-e1e7-4a5b-9533-49634e149822",
   "metadata": {},
   "outputs": [
    {
     "name": "stdin",
     "output_type": "stream",
     "text": [
      "Enter the size of the list:  5\n",
      "Enter the word from index no. 0:  Ajay\n",
      "Enter the word from index no. 1:  Guddu\n",
      "Enter the word from index no. 2:  Ajay\n",
      "Enter the word from index no. 3:  Guddu\n",
      "Enter the word from index no. 4:  Santu\n"
     ]
    },
    {
     "name": "stdout",
     "output_type": "stream",
     "text": [
      "\n",
      "Your orginal list is:  ['Ajay', 'Guddu', 'Ajay', 'Guddu', 'Santu']\n",
      "\n",
      "After convert dictionary.Your Dictionarry is:  {'Ajay': 2, 'Guddu': 2, 'Santu': 1}\n"
     ]
    }
   ],
   "source": [
    "# covert list to dictionary\n",
    "def convert_dict(lis):\n",
    "    dic = {}\n",
    "    for i in lis:\n",
    "        dic[i] = lis.count(i)\n",
    "    return dic\n",
    "\n",
    "# create a list function\n",
    "def create_list(n):\n",
    "    lis = []\n",
    "    for i in range(n):\n",
    "        word = input(f\"Enter the word from index no. {str(i)}: \")\n",
    "        lis.append(word)\n",
    "    return lis\n",
    "\n",
    "size = int(input(\"Enter the size of the list: \"))\n",
    "l = create_list(size)\n",
    "print(\"\\nYour orginal list is: \",l)\n",
    "\n",
    "print(\"\\nAfter convert dictionary.Your Dictionarry is: \",convert_dict(l))"
   ]
  },
  {
   "cell_type": "markdown",
   "id": "616c9f2e-4f71-4ca4-a57d-9b71431edc3b",
   "metadata": {},
   "source": [
    "# Q32) Write a code that takes two dictionaries as input and merges them into a single dictionary. If there are common keys, the values should be added together"
   ]
  },
  {
   "cell_type": "code",
   "execution_count": 29,
   "id": "2606ae20-733b-4b75-ac17-51b246608cf7",
   "metadata": {},
   "outputs": [
    {
     "name": "stdin",
     "output_type": "stream",
     "text": [
      "Enter the size of the 1st dictionary:  3\n",
      "Enter the key in the dictionary:  Biswajit\n",
      "Enter the 'Biswajit' corresponding value:  4\n",
      "Enter the key in the dictionary:  Guddu\n",
      "Enter the 'Guddu' corresponding value:  2\n",
      "Enter the key in the dictionary:  Ajay\n",
      "Enter the 'Ajay' corresponding value:  9\n",
      "\n",
      "Enter the size of the 2nd dictionary:  4\n",
      "Enter the key in the dictionary:  Biswajit\n",
      "Enter the 'Biswajit' corresponding value:  3\n",
      "Enter the key in the dictionary:  Mahi\n",
      "Enter the 'Mahi' corresponding value:  7\n",
      "Enter the key in the dictionary:  Messi\n",
      "Enter the 'Messi' corresponding value:  10\n",
      "Enter the key in the dictionary:  Guddu\n",
      "Enter the 'Guddu' corresponding value:  5\n"
     ]
    },
    {
     "name": "stdout",
     "output_type": "stream",
     "text": [
      "\n",
      "Your 1st orginal dictionary is:  {'Biswajit': 4, 'Guddu': 2, 'Ajay': 9}\n",
      "Your 2nd orgiinal dictionary is:  {'Biswajit': 3, 'Mahi': 7, 'Messi': 10, 'Guddu': 5}\n",
      "\n",
      "Your Combine dictionary is:  Counter({'Messi': 10, 'Ajay': 9, 'Biswajit': 7, 'Guddu': 7, 'Mahi': 7})\n"
     ]
    }
   ],
   "source": [
    "from collections import Counter\n",
    "\n",
    "# merge 2 dictionary\n",
    "def merge_dict(dict1,dict2):\n",
    "    cdict = Counter(dict1) + Counter(dict2)\n",
    "    return cdict\n",
    "\n",
    "# create a dictionary\n",
    "def create_dictionary(n):\n",
    "    dic = {}\n",
    "    for i in range(n):\n",
    "        key = input(\"Enter the key in the dictionary: \")\n",
    "        value = int(input(f\"Enter the '{key}' corresponding value: \"))\n",
    "        dic[key] = value\n",
    "    return dic\n",
    "\n",
    "size1 = int(input(\"Enter the size of the 1st dictionary: \"))\n",
    "dict1 = create_dictionary(size1)\n",
    "\n",
    "size2 = int(input(\"\\nEnter the size of the 2nd dictionary: \"))\n",
    "dict2 = create_dictionary(size2)\n",
    "\n",
    "print(\"\\nYour 1st orginal dictionary is: \",dict1)\n",
    "print(\"Your 2nd orgiinal dictionary is: \",dict2)\n",
    "\n",
    "print(\"\\nYour Combine dictionary is: \",merge_dict(dict1,dict2))"
   ]
  },
  {
   "cell_type": "markdown",
   "id": "cad53c33-8094-4659-b3cd-15067dc7d80d",
   "metadata": {},
   "source": [
    "# Q33)Write a code to access a value in a nested dictionary. The function should take the dictionary and a list of keys as input, and return the corresponding value. If any of the keys do not exist in the dictionary, the function should return None"
   ]
  },
  {
   "cell_type": "code",
   "execution_count": 34,
   "id": "932188fc-ee8e-4a3e-adfd-e715dc87889c",
   "metadata": {},
   "outputs": [
    {
     "name": "stdout",
     "output_type": "stream",
     "text": [
      "10\n",
      "None\n"
     ]
    }
   ],
   "source": [
    "def get_nested_value(d,keys):\n",
    "    for key in keys:\n",
    "        if isinstance(d,dict) and key in d:\n",
    "            d = d[key]\n",
    "        else:\n",
    "            return\n",
    "    return d\n",
    "\n",
    "# nested dictionary\n",
    "nested_dic = {\n",
    "    'a':{\n",
    "        'b':{\n",
    "            'c':10\n",
    "        }\n",
    "    }\n",
    "}\n",
    "\n",
    "\n",
    "# List of keys to access the value\n",
    "keys = ['a', 'b', 'c']\n",
    "\n",
    "# Call the function\n",
    "result = get_nested_value(nested_dic, keys)\n",
    "print(result) \n",
    "\n",
    "# If a key does not exist\n",
    "keys_not_exist = ['a', 'd', 'c']\n",
    "result = get_nested_value(nested_dic, keys_not_exist)\n",
    "print(result) \n"
   ]
  },
  {
   "cell_type": "markdown",
   "id": "6100605c-ad31-4c00-88ba-461c0d4539f7",
   "metadata": {},
   "source": [
    "# Q34) Write a code that takes a dictionary as input and returns a sorted version of it based on the values. You can choose whether to sort in ascending or descending order"
   ]
  },
  {
   "cell_type": "code",
   "execution_count": null,
   "id": "004ed577-eb12-4ceb-9b43-9463634e9243",
   "metadata": {},
   "outputs": [],
   "source": [
    "# ascending order\n",
    "def asend_order(dic):\n",
    "    min = dic\n",
    "\n",
    "# create a dictionary\n",
    "def create_dic(n):\n",
    "    dic = {}\n",
    "    for i in range(n):\n",
    "        key = input(\"Enter the key in dictionary: \")\n",
    "        value = int(input(f\"Enter the '{key}' corresponding value: \"))\n",
    "        dic[key] = value\n",
    "    return dic\n",
    "\n",
    "size = int(input(\"Enter the size of the  dictionary: \"))\n",
    "dict = create_dic(size)\n",
    "print(\"\\nYour Orginal dictionary is: \",dict)\n",
    "\n",
    "choice = int(input(\\n1.Ascending Order,\\n2.Descending Order,\\nEnter your choice: ))\n",
    "match choice:\n",
    "    case 1:\n",
    "        print(\"Your dictionary sorted by Ascending order based on values: \",ascending_order(dict))\n",
    "    case2: \n",
    "        print(\"Your dictionary sorted by Descending order based on values: \",descending_order(dict))\n",
    "    case __:\n",
    "        print(\"Invalid choise!\")"
   ]
  },
  {
   "cell_type": "markdown",
   "id": "e307e2a9-f786-489a-8ed2-4ca071ec78a2",
   "metadata": {},
   "source": [
    "# 35) Write a code that takes a dictionary as input and returns a sorted version of it based on the values. You can choose whether to sort in ascending or descending order"
   ]
  },
  {
   "cell_type": "code",
   "execution_count": 6,
   "id": "ef44c9d3-acb5-40d2-96a8-972c06040ec0",
   "metadata": {},
   "outputs": [
    {
     "name": "stdin",
     "output_type": "stream",
     "text": [
      "Enter the size of the dictionary:  5\n",
      "Enter the key of the dictionary:  Biriyani\n",
      "Enter the coreesponding key(Biriyani) value of the dictionary:  350\n",
      "Enter the key of the dictionary:  Fried Rice\n",
      "Enter the coreesponding key(Fried Rice) value of the dictionary:  200\n",
      "Enter the key of the dictionary:  South thali\n",
      "Enter the coreesponding key(South thali) value of the dictionary:  500\n",
      "Enter the key of the dictionary:  Burgeer\n",
      "Enter the coreesponding key(Burgeer) value of the dictionary:  100\n",
      "Enter the key of the dictionary:  Pizza\n",
      "Enter the coreesponding key(Pizza) value of the dictionary:  150\n"
     ]
    },
    {
     "name": "stdout",
     "output_type": "stream",
     "text": [
      "\n",
      "Your orginal dictionary is:  {'Biriyani': 350, 'Fried Rice': 200, 'South thali': 500, 'Burgeer': 100, 'Pizza': 150}\n",
      "\n",
      "After sorted it's value the new dictionary is:  {'Burgeer': 100, 'Pizza': 150, 'Fried Rice': 200, 'Biriyani': 350, 'South thali': 500}\n"
     ]
    }
   ],
   "source": [
    "# create a dictionary\n",
    "def create_dict(n):\n",
    "    dic = {}\n",
    "    for i in range(n):\n",
    "        key = input(\"Enter the key of the dictionary: \")\n",
    "        value = int(input(f\"Enter the coreesponding key({key}) value of the dictionary: \"))\n",
    "        dic[key] = value\n",
    "    return dic\n",
    "\n",
    "# Sort the dictionary by it's value\n",
    "def sort_dic(dic):\n",
    "    new_dic = dict(sorted(dic.items(),key = lambda x: x[1]))\n",
    "    return new_dic\n",
    "\n",
    "# main function\n",
    "size = int(input(\"Enter the size of the dictionary: \"))\n",
    "dic = create_dict(size)\n",
    "\n",
    "print(\"\\nYour orginal dictionary is: \",dic)\n",
    "print(\"\\nAfter sorted it's value the new dictionary is: \",sort_dic(dic))"
   ]
  },
  {
   "cell_type": "markdown",
   "id": "2d99de0f-99d6-46bc-8246-dc6ed0f19f25",
   "metadata": {},
   "source": [
    "# 36) Write a code that inverts a dictionary, swapping keys and values. Ensure that the inverted dictionary correctly handles cases where multiple keys have the same value by storing the keys as a list in the inverted dictionary."
   ]
  },
  {
   "cell_type": "code",
   "execution_count": 16,
   "id": "9f5e1f50-c421-4622-a016-3814205c69f9",
   "metadata": {},
   "outputs": [
    {
     "name": "stdout",
     "output_type": "stream",
     "text": [
      "\n",
      "Your Orginal dictionary is:  {'a': 1, 'b': 2, 'c': 1, 'd': 3, 'e': 2}\n",
      "\n",
      "Your inverted dictionary is:  {1: ['a', 'c'], 2: ['b', 'e'], 3: ['d']}\n"
     ]
    }
   ],
   "source": [
    "# Convert into inverted dictionary\n",
    "def invert_dict(orginal_dict):\n",
    "    invert_dict = {}\n",
    "    \n",
    "    for key,value in orginal_dict.items():\n",
    "        if value in invert_dict:\n",
    "            invert_dict[value].append(key)\n",
    "        else:\n",
    "            invert_dict[value] = [key]\n",
    "            \n",
    "    return invert_dict\n",
    "\n",
    "dic = {'a':1,'b':2,'c':1,'d':3,'e':2}\n",
    "\n",
    "print(\"\\nYour Orginal dictionary is: \",dic)\n",
    "print(\"\\nYour inverted dictionary is: \",invert_dict(dic))"
   ]
  },
  {
   "cell_type": "code",
   "execution_count": null,
   "id": "72fcb5c7-7b7a-4537-9eef-a718f17f23f2",
   "metadata": {},
   "outputs": [],
   "source": []
  }
 ],
 "metadata": {
  "kernelspec": {
   "display_name": "Python 3 (ipykernel)",
   "language": "python",
   "name": "python3"
  },
  "language_info": {
   "codemirror_mode": {
    "name": "ipython",
    "version": 3
   },
   "file_extension": ".py",
   "mimetype": "text/x-python",
   "name": "python",
   "nbconvert_exporter": "python",
   "pygments_lexer": "ipython3",
   "version": "3.12.4"
  }
 },
 "nbformat": 4,
 "nbformat_minor": 5
}
